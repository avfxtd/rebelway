{
 "cells": [
  {
   "cell_type": "code",
   "execution_count": 2,
   "metadata": {},
   "outputs": [],
   "source": [
    "import numpy as np\n",
    "import pandas as pd\n",
    "import matplotlib.pyplot as plt\n",
    "import seaborn as sns"
   ]
  },
  {
   "cell_type": "code",
   "execution_count": 14,
   "metadata": {},
   "outputs": [],
   "source": [
    "df = pd.read_csv(\"/mnt/nvme1/RebelWayMachineLearning/Coursework/week6/TMDB_tv_dataset_v3.csv\")"
   ]
  },
  {
   "cell_type": "code",
   "execution_count": 15,
   "metadata": {},
   "outputs": [
    {
     "data": {
      "text/html": [
       "<div>\n",
       "<style scoped>\n",
       "    .dataframe tbody tr th:only-of-type {\n",
       "        vertical-align: middle;\n",
       "    }\n",
       "\n",
       "    .dataframe tbody tr th {\n",
       "        vertical-align: top;\n",
       "    }\n",
       "\n",
       "    .dataframe thead th {\n",
       "        text-align: right;\n",
       "    }\n",
       "</style>\n",
       "<table border=\"1\" class=\"dataframe\">\n",
       "  <thead>\n",
       "    <tr style=\"text-align: right;\">\n",
       "      <th></th>\n",
       "      <th>id</th>\n",
       "      <th>name</th>\n",
       "      <th>number_of_seasons</th>\n",
       "      <th>number_of_episodes</th>\n",
       "      <th>original_language</th>\n",
       "      <th>vote_count</th>\n",
       "      <th>vote_average</th>\n",
       "      <th>overview</th>\n",
       "      <th>adult</th>\n",
       "      <th>backdrop_path</th>\n",
       "      <th>...</th>\n",
       "      <th>tagline</th>\n",
       "      <th>genres</th>\n",
       "      <th>created_by</th>\n",
       "      <th>languages</th>\n",
       "      <th>networks</th>\n",
       "      <th>origin_country</th>\n",
       "      <th>spoken_languages</th>\n",
       "      <th>production_companies</th>\n",
       "      <th>production_countries</th>\n",
       "      <th>episode_run_time</th>\n",
       "    </tr>\n",
       "  </thead>\n",
       "  <tbody>\n",
       "    <tr>\n",
       "      <th>0</th>\n",
       "      <td>1399</td>\n",
       "      <td>Game of Thrones</td>\n",
       "      <td>8</td>\n",
       "      <td>73</td>\n",
       "      <td>en</td>\n",
       "      <td>21857</td>\n",
       "      <td>8.442</td>\n",
       "      <td>Seven noble families fight for control of the ...</td>\n",
       "      <td>False</td>\n",
       "      <td>/2OMB0ynKlyIenMJWI2Dy9IWT4c.jpg</td>\n",
       "      <td>...</td>\n",
       "      <td>Winter Is Coming</td>\n",
       "      <td>Sci-Fi &amp; Fantasy, Drama, Action &amp; Adventure</td>\n",
       "      <td>David Benioff, D.B. Weiss</td>\n",
       "      <td>en</td>\n",
       "      <td>HBO</td>\n",
       "      <td>US</td>\n",
       "      <td>English</td>\n",
       "      <td>Revolution Sun Studios, Television 360, Genera...</td>\n",
       "      <td>United Kingdom, United States of America</td>\n",
       "      <td>0</td>\n",
       "    </tr>\n",
       "    <tr>\n",
       "      <th>1</th>\n",
       "      <td>71446</td>\n",
       "      <td>Money Heist</td>\n",
       "      <td>3</td>\n",
       "      <td>41</td>\n",
       "      <td>es</td>\n",
       "      <td>17836</td>\n",
       "      <td>8.257</td>\n",
       "      <td>To carry out the biggest heist in history, a m...</td>\n",
       "      <td>False</td>\n",
       "      <td>/gFZriCkpJYsApPZEF3jhxL4yLzG.jpg</td>\n",
       "      <td>...</td>\n",
       "      <td>The perfect robbery.</td>\n",
       "      <td>Crime, Drama</td>\n",
       "      <td>Álex Pina</td>\n",
       "      <td>es</td>\n",
       "      <td>Netflix, Antena 3</td>\n",
       "      <td>ES</td>\n",
       "      <td>Español</td>\n",
       "      <td>Vancouver Media</td>\n",
       "      <td>Spain</td>\n",
       "      <td>70</td>\n",
       "    </tr>\n",
       "    <tr>\n",
       "      <th>2</th>\n",
       "      <td>66732</td>\n",
       "      <td>Stranger Things</td>\n",
       "      <td>4</td>\n",
       "      <td>34</td>\n",
       "      <td>en</td>\n",
       "      <td>16161</td>\n",
       "      <td>8.624</td>\n",
       "      <td>When a young boy vanishes, a small town uncove...</td>\n",
       "      <td>False</td>\n",
       "      <td>/2MaumbgBlW1NoPo3ZJO38A6v7OS.jpg</td>\n",
       "      <td>...</td>\n",
       "      <td>Every ending has a beginning.</td>\n",
       "      <td>Drama, Sci-Fi &amp; Fantasy, Mystery</td>\n",
       "      <td>Matt Duffer, Ross Duffer</td>\n",
       "      <td>en</td>\n",
       "      <td>Netflix</td>\n",
       "      <td>US</td>\n",
       "      <td>English</td>\n",
       "      <td>21 Laps Entertainment, Monkey Massacre Product...</td>\n",
       "      <td>United States of America</td>\n",
       "      <td>0</td>\n",
       "    </tr>\n",
       "    <tr>\n",
       "      <th>3</th>\n",
       "      <td>1402</td>\n",
       "      <td>The Walking Dead</td>\n",
       "      <td>11</td>\n",
       "      <td>177</td>\n",
       "      <td>en</td>\n",
       "      <td>15432</td>\n",
       "      <td>8.121</td>\n",
       "      <td>Sheriff's deputy Rick Grimes awakens from a co...</td>\n",
       "      <td>False</td>\n",
       "      <td>/x4salpjB11umlUOltfNvSSrjSXm.jpg</td>\n",
       "      <td>...</td>\n",
       "      <td>Fight the dead. Fear the living.</td>\n",
       "      <td>Action &amp; Adventure, Drama, Sci-Fi &amp; Fantasy</td>\n",
       "      <td>Frank Darabont</td>\n",
       "      <td>en</td>\n",
       "      <td>AMC</td>\n",
       "      <td>US</td>\n",
       "      <td>English</td>\n",
       "      <td>AMC Studios, Circle of Confusion, Valhalla Mot...</td>\n",
       "      <td>United States of America</td>\n",
       "      <td>42</td>\n",
       "    </tr>\n",
       "    <tr>\n",
       "      <th>4</th>\n",
       "      <td>63174</td>\n",
       "      <td>Lucifer</td>\n",
       "      <td>6</td>\n",
       "      <td>93</td>\n",
       "      <td>en</td>\n",
       "      <td>13870</td>\n",
       "      <td>8.486</td>\n",
       "      <td>Bored and unhappy as the Lord of Hell, Lucifer...</td>\n",
       "      <td>False</td>\n",
       "      <td>/aDBRtunw49UF4XmqfyNuD9nlYIu.jpg</td>\n",
       "      <td>...</td>\n",
       "      <td>It's good to be bad.</td>\n",
       "      <td>Crime, Sci-Fi &amp; Fantasy</td>\n",
       "      <td>Tom Kapinos</td>\n",
       "      <td>en</td>\n",
       "      <td>FOX, Netflix</td>\n",
       "      <td>US</td>\n",
       "      <td>English</td>\n",
       "      <td>Warner Bros. Television, DC Entertainment, Jer...</td>\n",
       "      <td>United States of America</td>\n",
       "      <td>45</td>\n",
       "    </tr>\n",
       "  </tbody>\n",
       "</table>\n",
       "<p>5 rows × 29 columns</p>\n",
       "</div>"
      ],
      "text/plain": [
       "      id              name  number_of_seasons  number_of_episodes  \\\n",
       "0   1399   Game of Thrones                  8                  73   \n",
       "1  71446       Money Heist                  3                  41   \n",
       "2  66732   Stranger Things                  4                  34   \n",
       "3   1402  The Walking Dead                 11                 177   \n",
       "4  63174           Lucifer                  6                  93   \n",
       "\n",
       "  original_language  vote_count  vote_average  \\\n",
       "0                en       21857         8.442   \n",
       "1                es       17836         8.257   \n",
       "2                en       16161         8.624   \n",
       "3                en       15432         8.121   \n",
       "4                en       13870         8.486   \n",
       "\n",
       "                                            overview  adult  \\\n",
       "0  Seven noble families fight for control of the ...  False   \n",
       "1  To carry out the biggest heist in history, a m...  False   \n",
       "2  When a young boy vanishes, a small town uncove...  False   \n",
       "3  Sheriff's deputy Rick Grimes awakens from a co...  False   \n",
       "4  Bored and unhappy as the Lord of Hell, Lucifer...  False   \n",
       "\n",
       "                      backdrop_path  ...                           tagline  \\\n",
       "0   /2OMB0ynKlyIenMJWI2Dy9IWT4c.jpg  ...                  Winter Is Coming   \n",
       "1  /gFZriCkpJYsApPZEF3jhxL4yLzG.jpg  ...              The perfect robbery.   \n",
       "2  /2MaumbgBlW1NoPo3ZJO38A6v7OS.jpg  ...     Every ending has a beginning.   \n",
       "3  /x4salpjB11umlUOltfNvSSrjSXm.jpg  ...  Fight the dead. Fear the living.   \n",
       "4  /aDBRtunw49UF4XmqfyNuD9nlYIu.jpg  ...              It's good to be bad.   \n",
       "\n",
       "                                        genres                 created_by  \\\n",
       "0  Sci-Fi & Fantasy, Drama, Action & Adventure  David Benioff, D.B. Weiss   \n",
       "1                                 Crime, Drama                  Álex Pina   \n",
       "2             Drama, Sci-Fi & Fantasy, Mystery   Matt Duffer, Ross Duffer   \n",
       "3  Action & Adventure, Drama, Sci-Fi & Fantasy             Frank Darabont   \n",
       "4                      Crime, Sci-Fi & Fantasy                Tom Kapinos   \n",
       "\n",
       "   languages           networks  origin_country spoken_languages  \\\n",
       "0         en                HBO              US          English   \n",
       "1         es  Netflix, Antena 3              ES          Español   \n",
       "2         en            Netflix              US          English   \n",
       "3         en                AMC              US          English   \n",
       "4         en       FOX, Netflix              US          English   \n",
       "\n",
       "                                production_companies  \\\n",
       "0  Revolution Sun Studios, Television 360, Genera...   \n",
       "1                                    Vancouver Media   \n",
       "2  21 Laps Entertainment, Monkey Massacre Product...   \n",
       "3  AMC Studios, Circle of Confusion, Valhalla Mot...   \n",
       "4  Warner Bros. Television, DC Entertainment, Jer...   \n",
       "\n",
       "                       production_countries episode_run_time  \n",
       "0  United Kingdom, United States of America                0  \n",
       "1                                     Spain               70  \n",
       "2                  United States of America                0  \n",
       "3                  United States of America               42  \n",
       "4                  United States of America               45  \n",
       "\n",
       "[5 rows x 29 columns]"
      ]
     },
     "execution_count": 15,
     "metadata": {},
     "output_type": "execute_result"
    }
   ],
   "source": [
    "df.head()"
   ]
  },
  {
   "cell_type": "code",
   "execution_count": 16,
   "metadata": {},
   "outputs": [],
   "source": [
    "df = df[['id','name','vote_count','vote_average']]"
   ]
  },
  {
   "cell_type": "code",
   "execution_count": 29,
   "metadata": {},
   "outputs": [
    {
     "name": "stdout",
     "output_type": "stream",
     "text": [
      "<class 'pandas.core.frame.DataFrame'>\n",
      "RangeIndex: 168639 entries, 0 to 168638\n",
      "Data columns (total 4 columns):\n",
      " #   Column        Non-Null Count   Dtype  \n",
      "---  ------        --------------   -----  \n",
      " 0   id            168639 non-null  int64  \n",
      " 1   name          168634 non-null  object \n",
      " 2   vote_count    168639 non-null  int64  \n",
      " 3   vote_average  168639 non-null  float64\n",
      "dtypes: float64(1), int64(2), object(1)\n",
      "memory usage: 5.1+ MB\n"
     ]
    }
   ],
   "source": [
    "df.info()"
   ]
  },
  {
   "cell_type": "code",
   "execution_count": 17,
   "metadata": {},
   "outputs": [
    {
     "data": {
      "text/html": [
       "<div>\n",
       "<style scoped>\n",
       "    .dataframe tbody tr th:only-of-type {\n",
       "        vertical-align: middle;\n",
       "    }\n",
       "\n",
       "    .dataframe tbody tr th {\n",
       "        vertical-align: top;\n",
       "    }\n",
       "\n",
       "    .dataframe thead th {\n",
       "        text-align: right;\n",
       "    }\n",
       "</style>\n",
       "<table border=\"1\" class=\"dataframe\">\n",
       "  <thead>\n",
       "    <tr style=\"text-align: right;\">\n",
       "      <th></th>\n",
       "      <th>id</th>\n",
       "      <th>name</th>\n",
       "      <th>vote_count</th>\n",
       "      <th>vote_average</th>\n",
       "    </tr>\n",
       "  </thead>\n",
       "  <tbody>\n",
       "    <tr>\n",
       "      <th>0</th>\n",
       "      <td>1399</td>\n",
       "      <td>Game of Thrones</td>\n",
       "      <td>21857</td>\n",
       "      <td>8.442</td>\n",
       "    </tr>\n",
       "    <tr>\n",
       "      <th>1</th>\n",
       "      <td>71446</td>\n",
       "      <td>Money Heist</td>\n",
       "      <td>17836</td>\n",
       "      <td>8.257</td>\n",
       "    </tr>\n",
       "    <tr>\n",
       "      <th>2</th>\n",
       "      <td>66732</td>\n",
       "      <td>Stranger Things</td>\n",
       "      <td>16161</td>\n",
       "      <td>8.624</td>\n",
       "    </tr>\n",
       "    <tr>\n",
       "      <th>3</th>\n",
       "      <td>1402</td>\n",
       "      <td>The Walking Dead</td>\n",
       "      <td>15432</td>\n",
       "      <td>8.121</td>\n",
       "    </tr>\n",
       "    <tr>\n",
       "      <th>4</th>\n",
       "      <td>63174</td>\n",
       "      <td>Lucifer</td>\n",
       "      <td>13870</td>\n",
       "      <td>8.486</td>\n",
       "    </tr>\n",
       "  </tbody>\n",
       "</table>\n",
       "</div>"
      ],
      "text/plain": [
       "      id              name  vote_count  vote_average\n",
       "0   1399   Game of Thrones       21857         8.442\n",
       "1  71446       Money Heist       17836         8.257\n",
       "2  66732   Stranger Things       16161         8.624\n",
       "3   1402  The Walking Dead       15432         8.121\n",
       "4  63174           Lucifer       13870         8.486"
      ]
     },
     "execution_count": 17,
     "metadata": {},
     "output_type": "execute_result"
    }
   ],
   "source": [
    "df.head()"
   ]
  },
  {
   "cell_type": "code",
   "execution_count": 19,
   "metadata": {},
   "outputs": [
    {
     "name": "stdout",
     "output_type": "stream",
     "text": [
      "1110 164705\n"
     ]
    }
   ],
   "source": [
    "num_count = df.vote_count.nunique()\n",
    "num_items = df.id.nunique()\n",
    "print(num_count,num_items)\n"
   ]
  },
  {
   "cell_type": "code",
   "execution_count": 9,
   "metadata": {},
   "outputs": [],
   "source": [
    "from sklearn.model_selection import train_test_split"
   ]
  },
  {
   "cell_type": "code",
   "execution_count": 10,
   "metadata": {},
   "outputs": [],
   "source": [
    "train_data, teset_data = train_test_split(df,test_size=0.2)"
   ]
  },
  {
   "cell_type": "code",
   "execution_count": 11,
   "metadata": {},
   "outputs": [],
   "source": [
    "#memory based"
   ]
  },
  {
   "cell_type": "code",
   "execution_count": 24,
   "metadata": {},
   "outputs": [
    {
     "name": "stdout",
     "output_type": "stream",
     "text": [
      "21857 251213\n"
     ]
    }
   ],
   "source": [
    "max_vote_count_index = df['vote_count'].max()\n",
    "max_items_index = df['id'].max()\n",
    "print(max_vote_count_index, max_items_index)"
   ]
  },
  {
   "cell_type": "code",
   "execution_count": 25,
   "metadata": {},
   "outputs": [],
   "source": [
    "num_count = max_vote_count_index\n",
    "num_items = max_items_index"
   ]
  },
  {
   "cell_type": "code",
   "execution_count": 26,
   "metadata": {},
   "outputs": [],
   "source": [
    "user_train_data_matrx = np.zeros((num_count, num_items))"
   ]
  },
  {
   "cell_type": "code",
   "execution_count": 31,
   "metadata": {},
   "outputs": [
    {
     "ename": "TypeError",
     "evalue": "unsupported operand type(s) for -: 'str' and 'int'",
     "output_type": "error",
     "traceback": [
      "\u001b[0;31m---------------------------------------------------------------------------\u001b[0m",
      "\u001b[0;31mTypeError\u001b[0m                                 Traceback (most recent call last)",
      "Cell \u001b[0;32mIn[31], line 2\u001b[0m\n\u001b[1;32m      1\u001b[0m \u001b[38;5;28;01mfor\u001b[39;00m entry \u001b[38;5;129;01min\u001b[39;00m train_data\u001b[38;5;241m.\u001b[39mitertuples():\n\u001b[0;32m----> 2\u001b[0m     count_index \u001b[38;5;241m=\u001b[39m entry[\u001b[38;5;241m1\u001b[39m] \u001b[38;5;241m-\u001b[39m \u001b[38;5;241m1\u001b[39m\n",
      "\u001b[0;31mTypeError\u001b[0m: unsupported operand type(s) for -: 'str' and 'int'"
     ]
    }
   ],
   "source": [
    "for entry in train_data.itertuples():\n",
    "    count_index = entry[1] - 1\n",
    "    #item_index = entry[2] - 1\n",
    "    #rating = entry[3]\n",
    "\n",
    "    #user_train_data_matrx[count_index, item_index] = rating"
   ]
  },
  {
   "cell_type": "code",
   "execution_count": null,
   "metadata": {},
   "outputs": [],
   "source": []
  },
  {
   "cell_type": "code",
   "execution_count": null,
   "metadata": {},
   "outputs": [],
   "source": []
  },
  {
   "cell_type": "code",
   "execution_count": null,
   "metadata": {},
   "outputs": [],
   "source": []
  }
 ],
 "metadata": {
  "kernelspec": {
   "display_name": "base",
   "language": "python",
   "name": "python3"
  },
  "language_info": {
   "codemirror_mode": {
    "name": "ipython",
    "version": 3
   },
   "file_extension": ".py",
   "mimetype": "text/x-python",
   "name": "python",
   "nbconvert_exporter": "python",
   "pygments_lexer": "ipython3",
   "version": "3.11.7"
  }
 },
 "nbformat": 4,
 "nbformat_minor": 2
}
